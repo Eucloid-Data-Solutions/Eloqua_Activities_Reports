{
 "cells": [
  {
   "cell_type": "code",
   "execution_count": null,
   "metadata": {},
   "outputs": [],
   "source": [
    "import requests\n",
    "import json\n",
    "import ast\n",
    "headers = {\n",
    "  'Content-Type': 'application/json',\n",
    "  'Authorization': 'Basic ##########################'#got the apikey using postman--->convert to python method\n",
    "}"
   ]
  },
  {
   "cell_type": "code",
   "execution_count": null,
   "metadata": {},
   "outputs": [],
   "source": [
    "def api2(sync23):\n",
    "  dict=[]\n",
    "  url = f\"https://secure.p03.eloqua.com/API/bulk/2.0{sync23}/data?limit=50000\"\n",
    "  payload = {}\n",
    "  response = requests.request(\"GET\", url, headers=headers, data=payload).json() \n",
    "  for i in response['items']:\n",
    "   dict.append([i['EmailAddress'],i['ActivityDate']])\n",
    "  off=50000\n",
    "  while response['hasMore']:\n",
    "    url = f\"https://secure.p03.eloqua.com/API/bulk/2.0{sync23}/data?limit=50000&offset={off}\"\n",
    "    response = requests.request(\"GET\", url, headers=headers, data=payload).json()   \n",
    "    for i in response['items']:\n",
    "      dict.append([i['EmailAddress'],i['ActivityDate']])\n",
    "    off+=50000\n",
    "  \n",
    "\n",
    "  return(dict)"
   ]
  },
  {
   "cell_type": "code",
   "execution_count": null,
   "metadata": {},
   "outputs": [],
   "source": [
    "def api():\n",
    "  url=\"https://secure.p03.eloqua.com/api/bulk/2.0/activities/exports\"#setting the url for bulk\n",
    "  payload={#filter \n",
    "  \"filter\": \"'{{Activity.Type}}'= 'EmailOpen' AND '{{Activity.CreatedAt}}'>= '2023-09-01' AND '{{Activity.CreatedAt}}'<='2023-10-01'\",\n",
    "  \"name\": \"api export\",\n",
    "  \"fields\": {\n",
    "    \"EmailAddress\": \"{{Activity.Field(EmailAddress)}}\",\n",
    "    \"ActivityDate\": \"{{Activity.CreatedAt}}\",\n",
    "    }\n",
    "  }\n",
    "#Setting the filter for EmailOpens for given date range\n",
    "  response = requests.request(\"POST\" , url, headers=headers, data=json.dumps(payload))#Save the uri field value for the next step\n",
    "  dict1= ast.literal_eval(response.text)\n",
    "  sync1=dict1[\"uri\"] #sync1 looks like: /activities/exports/26331 \n",
    "  url = \"https://secure.p03.eloqua.com/API/bulk/2.0/syncs\"\n",
    "  payload = json.dumps({\n",
    "  \"syncedInstanceUri\": sync1\n",
    "  })\n",
    "  response = requests.request(\"POST\", url, headers=headers, data=payload)\n",
    "  dict2= ast.literal_eval(response.text)\n",
    "  sync2=dict2[\"uri\"] #The response will include a status parameter, creation metadata, and the sync uri\n",
    "  while ('\"status\":\"success\"'not in response.text): #wait for the sync to complete and status=="success"\n",
    "    url = f\"https://secure.p03.eloqua.com/API/bulk/2.0{sync2}\"\n",
    "    payload = {}\n",
    "    response = requests.request(\"GET\", url, headers=headers, data=payload)\n",
    "  \n",
    "  return(sync2) #return this sync to api2 function eg. /bulk/2.0/syncs/52524"
   ]
  },
  {
   "cell_type": "code",
   "execution_count": null,
   "metadata": {},
   "outputs": [],
   "source": [
    "trans=[]\n",
    "a=api2(api())\n",
    "for i in a: \n",
    "    trans.append(i)"
   ]
  },
  {
   "cell_type": "code",
   "execution_count": null,
   "metadata": {},
   "outputs": [],
   "source": [
    "unique_emails = {}\n",
    "for email, date in trans:\n",
    "    if email not in unique_emails or date < unique_emails[email]:\n",
    "        unique_emails[email] = date\n",
    "\n",
    "result = [[email, date] for email, date in unique_emails.items()]\n",
    "print(result)"
   ]
  },
  {
   "cell_type": "code",
   "execution_count": null,
   "metadata": {},
   "outputs": [],
   "source": [
    "import csv\n",
    "filename = 'openers_sept23.csv'\n",
    "with open(filename, 'w', newline='') as file:\n",
    "    writer = csv.writer(file)\n",
    "    writer.writerow(['email_id','order_date'])\n",
    "    writer.writerows(result)"
   ]
  }
 ],
 "metadata": {
  "language_info": {
   "name": "python"
  }
 },
 "nbformat": 4,
 "nbformat_minor": 2
}
